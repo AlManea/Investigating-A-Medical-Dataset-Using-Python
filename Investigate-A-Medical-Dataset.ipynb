{
 "cells": [
  {
   "cell_type": "markdown",
   "metadata": {},
   "source": [
    "#Investigate Some Factors Affecting Appointment Missing in Brazil \n",
    "\n",
    "## Table of Contents\n",
    "<ul>\n",
    "<li><a href=\"#intro\">Introduction</a></li>\n",
    "<li><a href=\"#wrangling\">Data Wrangling</a></li>\n",
    "<li><a href=\"#eda\">Exploratory Data Analysis</a></li>\n",
    "<li><a href=\"#conclusions\">Conclusions</a></li>\n",
    "</ul>"
   ]
  },
  {
   "cell_type": "markdown",
   "metadata": {},
   "source": [
    "<a id='intro'></a>\n",
    "## Introduction\n",
    "\n",
    "> In this project, we try to anlyze a public health dataset provided originally from <a href=\"https://www.kaggle.com/joniarroba/noshowappointments\">Kaggle</a>, recording the history of missing healthcare appointments for patients with various conditions. The dataset includes columns for various patient vital information, including Gender, Age and health conditions such as Hypertension, Diabetes and Alchoholism. It also includes Neighborhood and whether or not the patient is enrolled in the public welfare system in Brazil, called Bolsa Familia (called Scholarship in the dataset). It also includes the appointment date and the scheduling date, when the appointment was originally booked. Finally, the dataset also includes information on whether an SMS appointment message was recieved by the patiend or not.\n",
    "\n",
    "> The analysis aims to get an insight into which factors play some role in making an appointment more susictible to be cancelled. This could be helpful in putting in some checks and measures to make sure such appointments are not going to be missed. In particular, we will try to find if there is any relationship between some patient vital and health conditions (Age, Hypertension, Diabestes and Alchoholism), the length of the duration between the scheduling day and the appointment day, the enrollment in public welfare systm,and the reciption of the SMS message on making an appointment more or less suciptible to be missed. "
   ]
  },
  {
   "cell_type": "markdown",
   "metadata": {},
   "source": [
    "<a id='wrangling'></a>\n",
    "## Data Wrangling\n",
    "> We start our analysis with data wrangling, as our data collection phase is already done. We start frist by checking the general properties in our dataset. \n",
    "\n",
    "### General Properties"
   ]
  },
  {
   "cell_type": "markdown",
   "metadata": {},
   "source": [
    "> First, we import the necessary modules for our analysis"
   ]
  },
  {
   "cell_type": "code",
   "execution_count": 534,
   "metadata": {},
   "outputs": [
    {
     "name": "stderr",
     "output_type": "stream",
     "text": [
      "UsageError: Line magic function `%` not found.\n"
     ]
    }
   ],
   "source": [
    "# We start by importing the necessary packages\n",
    "import numpy as np\n",
    "import pandas as pd\n",
    "import seaborn as sbrn\n",
    "import datetime\n",
    "import matplotlib.pyplot as mplt\n",
    "% matplotlib inline"
   ]
  },
  {
   "cell_type": "markdown",
   "metadata": {},
   "source": [
    "> We load the dataset and display the first few lines"
   ]
  },
  {
   "cell_type": "code",
   "execution_count": 555,
   "metadata": {},
   "outputs": [
    {
     "data": {
      "text/html": [
       "<div>\n",
       "<style scoped>\n",
       "    .dataframe tbody tr th:only-of-type {\n",
       "        vertical-align: middle;\n",
       "    }\n",
       "\n",
       "    .dataframe tbody tr th {\n",
       "        vertical-align: top;\n",
       "    }\n",
       "\n",
       "    .dataframe thead th {\n",
       "        text-align: right;\n",
       "    }\n",
       "</style>\n",
       "<table border=\"1\" class=\"dataframe\">\n",
       "  <thead>\n",
       "    <tr style=\"text-align: right;\">\n",
       "      <th></th>\n",
       "      <th>PatientId</th>\n",
       "      <th>AppointmentID</th>\n",
       "      <th>Gender</th>\n",
       "      <th>ScheduledDay</th>\n",
       "      <th>AppointmentDay</th>\n",
       "      <th>Age</th>\n",
       "      <th>Neighbourhood</th>\n",
       "      <th>Scholarship</th>\n",
       "      <th>Hipertension</th>\n",
       "      <th>Diabetes</th>\n",
       "      <th>Alcoholism</th>\n",
       "      <th>Handcap</th>\n",
       "      <th>SMS_received</th>\n",
       "      <th>No-show</th>\n",
       "    </tr>\n",
       "  </thead>\n",
       "  <tbody>\n",
       "    <tr>\n",
       "      <th>0</th>\n",
       "      <td>2.987250e+13</td>\n",
       "      <td>5642903</td>\n",
       "      <td>F</td>\n",
       "      <td>2016-04-29T18:38:08Z</td>\n",
       "      <td>2016-04-29T00:00:00Z</td>\n",
       "      <td>62</td>\n",
       "      <td>JARDIM DA PENHA</td>\n",
       "      <td>0</td>\n",
       "      <td>1</td>\n",
       "      <td>0</td>\n",
       "      <td>0</td>\n",
       "      <td>0</td>\n",
       "      <td>0</td>\n",
       "      <td>No</td>\n",
       "    </tr>\n",
       "    <tr>\n",
       "      <th>1</th>\n",
       "      <td>5.589978e+14</td>\n",
       "      <td>5642503</td>\n",
       "      <td>M</td>\n",
       "      <td>2016-04-29T16:08:27Z</td>\n",
       "      <td>2016-04-29T00:00:00Z</td>\n",
       "      <td>56</td>\n",
       "      <td>JARDIM DA PENHA</td>\n",
       "      <td>0</td>\n",
       "      <td>0</td>\n",
       "      <td>0</td>\n",
       "      <td>0</td>\n",
       "      <td>0</td>\n",
       "      <td>0</td>\n",
       "      <td>No</td>\n",
       "    </tr>\n",
       "    <tr>\n",
       "      <th>2</th>\n",
       "      <td>4.262962e+12</td>\n",
       "      <td>5642549</td>\n",
       "      <td>F</td>\n",
       "      <td>2016-04-29T16:19:04Z</td>\n",
       "      <td>2016-04-29T00:00:00Z</td>\n",
       "      <td>62</td>\n",
       "      <td>MATA DA PRAIA</td>\n",
       "      <td>0</td>\n",
       "      <td>0</td>\n",
       "      <td>0</td>\n",
       "      <td>0</td>\n",
       "      <td>0</td>\n",
       "      <td>0</td>\n",
       "      <td>No</td>\n",
       "    </tr>\n",
       "    <tr>\n",
       "      <th>3</th>\n",
       "      <td>8.679512e+11</td>\n",
       "      <td>5642828</td>\n",
       "      <td>F</td>\n",
       "      <td>2016-04-29T17:29:31Z</td>\n",
       "      <td>2016-04-29T00:00:00Z</td>\n",
       "      <td>8</td>\n",
       "      <td>PONTAL DE CAMBURI</td>\n",
       "      <td>0</td>\n",
       "      <td>0</td>\n",
       "      <td>0</td>\n",
       "      <td>0</td>\n",
       "      <td>0</td>\n",
       "      <td>0</td>\n",
       "      <td>No</td>\n",
       "    </tr>\n",
       "    <tr>\n",
       "      <th>4</th>\n",
       "      <td>8.841186e+12</td>\n",
       "      <td>5642494</td>\n",
       "      <td>F</td>\n",
       "      <td>2016-04-29T16:07:23Z</td>\n",
       "      <td>2016-04-29T00:00:00Z</td>\n",
       "      <td>56</td>\n",
       "      <td>JARDIM DA PENHA</td>\n",
       "      <td>0</td>\n",
       "      <td>1</td>\n",
       "      <td>1</td>\n",
       "      <td>0</td>\n",
       "      <td>0</td>\n",
       "      <td>0</td>\n",
       "      <td>No</td>\n",
       "    </tr>\n",
       "    <tr>\n",
       "      <th>5</th>\n",
       "      <td>9.598513e+13</td>\n",
       "      <td>5626772</td>\n",
       "      <td>F</td>\n",
       "      <td>2016-04-27T08:36:51Z</td>\n",
       "      <td>2016-04-29T00:00:00Z</td>\n",
       "      <td>76</td>\n",
       "      <td>REPÚBLICA</td>\n",
       "      <td>0</td>\n",
       "      <td>1</td>\n",
       "      <td>0</td>\n",
       "      <td>0</td>\n",
       "      <td>0</td>\n",
       "      <td>0</td>\n",
       "      <td>No</td>\n",
       "    </tr>\n",
       "    <tr>\n",
       "      <th>6</th>\n",
       "      <td>7.336882e+14</td>\n",
       "      <td>5630279</td>\n",
       "      <td>F</td>\n",
       "      <td>2016-04-27T15:05:12Z</td>\n",
       "      <td>2016-04-29T00:00:00Z</td>\n",
       "      <td>23</td>\n",
       "      <td>GOIABEIRAS</td>\n",
       "      <td>0</td>\n",
       "      <td>0</td>\n",
       "      <td>0</td>\n",
       "      <td>0</td>\n",
       "      <td>0</td>\n",
       "      <td>0</td>\n",
       "      <td>Yes</td>\n",
       "    </tr>\n",
       "    <tr>\n",
       "      <th>7</th>\n",
       "      <td>3.449833e+12</td>\n",
       "      <td>5630575</td>\n",
       "      <td>F</td>\n",
       "      <td>2016-04-27T15:39:58Z</td>\n",
       "      <td>2016-04-29T00:00:00Z</td>\n",
       "      <td>39</td>\n",
       "      <td>GOIABEIRAS</td>\n",
       "      <td>0</td>\n",
       "      <td>0</td>\n",
       "      <td>0</td>\n",
       "      <td>0</td>\n",
       "      <td>0</td>\n",
       "      <td>0</td>\n",
       "      <td>Yes</td>\n",
       "    </tr>\n",
       "    <tr>\n",
       "      <th>8</th>\n",
       "      <td>5.639473e+13</td>\n",
       "      <td>5638447</td>\n",
       "      <td>F</td>\n",
       "      <td>2016-04-29T08:02:16Z</td>\n",
       "      <td>2016-04-29T00:00:00Z</td>\n",
       "      <td>21</td>\n",
       "      <td>ANDORINHAS</td>\n",
       "      <td>0</td>\n",
       "      <td>0</td>\n",
       "      <td>0</td>\n",
       "      <td>0</td>\n",
       "      <td>0</td>\n",
       "      <td>0</td>\n",
       "      <td>No</td>\n",
       "    </tr>\n",
       "    <tr>\n",
       "      <th>9</th>\n",
       "      <td>7.812456e+13</td>\n",
       "      <td>5629123</td>\n",
       "      <td>F</td>\n",
       "      <td>2016-04-27T12:48:25Z</td>\n",
       "      <td>2016-04-29T00:00:00Z</td>\n",
       "      <td>19</td>\n",
       "      <td>CONQUISTA</td>\n",
       "      <td>0</td>\n",
       "      <td>0</td>\n",
       "      <td>0</td>\n",
       "      <td>0</td>\n",
       "      <td>0</td>\n",
       "      <td>0</td>\n",
       "      <td>No</td>\n",
       "    </tr>\n",
       "  </tbody>\n",
       "</table>\n",
       "</div>"
      ],
      "text/plain": [
       "      PatientId  AppointmentID Gender          ScheduledDay  \\\n",
       "0  2.987250e+13        5642903      F  2016-04-29T18:38:08Z   \n",
       "1  5.589978e+14        5642503      M  2016-04-29T16:08:27Z   \n",
       "2  4.262962e+12        5642549      F  2016-04-29T16:19:04Z   \n",
       "3  8.679512e+11        5642828      F  2016-04-29T17:29:31Z   \n",
       "4  8.841186e+12        5642494      F  2016-04-29T16:07:23Z   \n",
       "5  9.598513e+13        5626772      F  2016-04-27T08:36:51Z   \n",
       "6  7.336882e+14        5630279      F  2016-04-27T15:05:12Z   \n",
       "7  3.449833e+12        5630575      F  2016-04-27T15:39:58Z   \n",
       "8  5.639473e+13        5638447      F  2016-04-29T08:02:16Z   \n",
       "9  7.812456e+13        5629123      F  2016-04-27T12:48:25Z   \n",
       "\n",
       "         AppointmentDay  Age      Neighbourhood  Scholarship  Hipertension  \\\n",
       "0  2016-04-29T00:00:00Z   62    JARDIM DA PENHA            0             1   \n",
       "1  2016-04-29T00:00:00Z   56    JARDIM DA PENHA            0             0   \n",
       "2  2016-04-29T00:00:00Z   62      MATA DA PRAIA            0             0   \n",
       "3  2016-04-29T00:00:00Z    8  PONTAL DE CAMBURI            0             0   \n",
       "4  2016-04-29T00:00:00Z   56    JARDIM DA PENHA            0             1   \n",
       "5  2016-04-29T00:00:00Z   76          REPÚBLICA            0             1   \n",
       "6  2016-04-29T00:00:00Z   23         GOIABEIRAS            0             0   \n",
       "7  2016-04-29T00:00:00Z   39         GOIABEIRAS            0             0   \n",
       "8  2016-04-29T00:00:00Z   21         ANDORINHAS            0             0   \n",
       "9  2016-04-29T00:00:00Z   19          CONQUISTA            0             0   \n",
       "\n",
       "   Diabetes  Alcoholism  Handcap  SMS_received No-show  \n",
       "0         0           0        0             0      No  \n",
       "1         0           0        0             0      No  \n",
       "2         0           0        0             0      No  \n",
       "3         0           0        0             0      No  \n",
       "4         1           0        0             0      No  \n",
       "5         0           0        0             0      No  \n",
       "6         0           0        0             0     Yes  \n",
       "7         0           0        0             0     Yes  \n",
       "8         0           0        0             0      No  \n",
       "9         0           0        0             0      No  "
      ]
     },
     "execution_count": 555,
     "metadata": {},
     "output_type": "execute_result"
    }
   ],
   "source": [
    "df = pd.read_csv('noshowappointments-kagglev2-may-2016.csv')\n",
    "df.head(10)"
   ]
  },
  {
   "cell_type": "markdown",
   "metadata": {},
   "source": [
    "> Find out the shape of the dataset"
   ]
  },
  {
   "cell_type": "code",
   "execution_count": 556,
   "metadata": {},
   "outputs": [
    {
     "data": {
      "text/plain": [
       "(110527, 14)"
      ]
     },
     "execution_count": 556,
     "metadata": {},
     "output_type": "execute_result"
    }
   ],
   "source": [
    "# this describe the shape of our data (i.e., columns and rows)\n",
    "df.shape"
   ]
  },
  {
   "cell_type": "markdown",
   "metadata": {},
   "source": [
    "> We have 14 columns and more than 110k records!.\n",
    "The columns, in order, are:\n",
    ">>1. The patient ID\n",
    ">>2. The appointment ID\n",
    ">>3. The patient gender\n",
    ">>4. The day on which the appointment was made.\n",
    ">>5. The day on which the appontment is going to occur.\n",
    ">>6. The patient age\n",
    ">>7. The neighborhood where the appointment is going to happen.\n",
    ">>8. The patient status of whether or not he is enrolled in Bolsa Familia welfare program (We call it here 'Scholarship')\n",
    ">>9. Whether the patient has hypertension or not.\n",
    ">>10. Whether the patient has diabetes or not.\n",
    ">>11. Whether the patient has alchoholism or not.\n",
    ">>12. Whether the patient is handicaped or not (with 4 types of hanicap types)\n",
    ">>13. Wehter the patient has gotten an appointment SMS or not\n",
    ">>14. Wether the patient has missed the appointment or not.\n",
    "\n",
    ">We look into the basic type of each column to get a feel on where we steer our data cleaning efforts"
   ]
  },
  {
   "cell_type": "code",
   "execution_count": 557,
   "metadata": {},
   "outputs": [
    {
     "name": "stdout",
     "output_type": "stream",
     "text": [
      "<class 'pandas.core.frame.DataFrame'>\n",
      "RangeIndex: 110527 entries, 0 to 110526\n",
      "Data columns (total 14 columns):\n",
      "PatientId         110527 non-null float64\n",
      "AppointmentID     110527 non-null int64\n",
      "Gender            110527 non-null object\n",
      "ScheduledDay      110527 non-null object\n",
      "AppointmentDay    110527 non-null object\n",
      "Age               110527 non-null int64\n",
      "Neighbourhood     110527 non-null object\n",
      "Scholarship       110527 non-null int64\n",
      "Hipertension      110527 non-null int64\n",
      "Diabetes          110527 non-null int64\n",
      "Alcoholism        110527 non-null int64\n",
      "Handcap           110527 non-null int64\n",
      "SMS_received      110527 non-null int64\n",
      "No-show           110527 non-null object\n",
      "dtypes: float64(1), int64(8), object(5)\n",
      "memory usage: 11.8+ MB\n"
     ]
    }
   ],
   "source": [
    "# This call gives us the basic datatpes in our dataframe, and how many non-null values each column has\n",
    "df.info()"
   ]
  },
  {
   "cell_type": "markdown",
   "metadata": {},
   "source": [
    "> We see that we do not have any missing values, which is good. \n",
    "\n",
    "> We will not be needing PatientId or AppointmentID, but we should check if there is any duplications before we drop these columns"
   ]
  },
  {
   "cell_type": "code",
   "execution_count": 558,
   "metadata": {},
   "outputs": [
    {
     "data": {
      "text/plain": [
       "0"
      ]
     },
     "execution_count": 558,
     "metadata": {},
     "output_type": "execute_result"
    }
   ],
   "source": [
    "# here we check how many duplicate records, based on the appointment ID\n",
    "sum(df.AppointmentID.duplicated())"
   ]
  },
  {
   "cell_type": "code",
   "execution_count": 559,
   "metadata": {},
   "outputs": [
    {
     "data": {
      "text/plain": [
       "48228"
      ]
     },
     "execution_count": 559,
     "metadata": {},
     "output_type": "execute_result"
    }
   ],
   "source": [
    "# here we check how many duplicate records, based on the patient ID\n",
    "sum(df.PatientId.duplicated())"
   ]
  },
  {
   "cell_type": "markdown",
   "metadata": {},
   "source": [
    "> There seem to be multiple patients recoreds, but for different appointments. Lets see a histogram of patient ID's so that we know that no patient is dominating the whole dataset--This could be very, very unlikely, but just to be on the safe side :)"
   ]
  },
  {
   "cell_type": "code",
   "execution_count": 560,
   "metadata": {},
   "outputs": [
    {
     "data": {
      "text/plain": [
       "Text(0, 0.5, 'Number of Records')"
      ]
     },
     "execution_count": 560,
     "metadata": {},
     "output_type": "execute_result"
    },
    {
     "data": {
      "image/png": "[encoded data removed]",
      "text/plain": [
       "<Figure size 432x288 with 1 Axes>"
      ]
     },
     "metadata": {
      "needs_background": "light"
     },
     "output_type": "display_data"
    }
   ],
   "source": [
    "# this gives us the patient ID distribution in a histogram form\n",
    "pp = df.PatientId.hist();\n",
    "pp.set_title('Histogram of Patient IDs')\n",
    "pp.set_xlabel('Patient IDs')\n",
    "pp.set_ylabel('Number of Records')"
   ]
  },
  {
   "cell_type": "markdown",
   "metadata": {},
   "source": [
    "> There seem to be a long skew to the right, with high concentration of ID's in the left. There could be a problem of one patient dominating the distribution. To role out this possiblity, let us find the maximum occurences for a single record of patient ID's."
   ]
  },
  {
   "cell_type": "code",
   "execution_count": 561,
   "metadata": {},
   "outputs": [
    {
     "data": {
      "text/plain": [
       "88"
      ]
     },
     "execution_count": 561,
     "metadata": {},
     "output_type": "execute_result"
    }
   ],
   "source": [
    "# Here we get the maximum number of records for a single patient\n",
    "max(df.PatientId.value_counts())"
   ]
  },
  {
   "cell_type": "markdown",
   "metadata": {},
   "source": [
    "> 88 is not a huge number compared to 110k, so we are safe to drop the patient ID's. We will go ahead and drop both Appointment ID and Patient ID columns"
   ]
  },
  {
   "cell_type": "code",
   "execution_count": 564,
   "metadata": {},
   "outputs": [
    {
     "data": {
      "text/html": [
       "<div>\n",
       "<style scoped>\n",
       "    .dataframe tbody tr th:only-of-type {\n",
       "        vertical-align: middle;\n",
       "    }\n",
       "\n",
       "    .dataframe tbody tr th {\n",
       "        vertical-align: top;\n",
       "    }\n",
       "\n",
       "    .dataframe thead th {\n",
       "        text-align: right;\n",
       "    }\n",
       "</style>\n",
       "<table border=\"1\" class=\"dataframe\">\n",
       "  <thead>\n",
       "    <tr style=\"text-align: right;\">\n",
       "      <th></th>\n",
       "      <th>Gender</th>\n",
       "      <th>ScheduledDay</th>\n",
       "      <th>AppointmentDay</th>\n",
       "      <th>Age</th>\n",
       "      <th>Neighbourhood</th>\n",
       "      <th>Scholarship</th>\n",
       "      <th>Hipertension</th>\n",
       "      <th>Diabetes</th>\n",
       "      <th>Alcoholism</th>\n",
       "      <th>Handcap</th>\n",
       "      <th>SMS_received</th>\n",
       "      <th>No-show</th>\n",
       "    </tr>\n",
       "  </thead>\n",
       "  <tbody>\n",
       "    <tr>\n",
       "      <th>0</th>\n",
       "      <td>F</td>\n",
       "      <td>2016-04-29T18:38:08Z</td>\n",
       "      <td>2016-04-29T00:00:00Z</td>\n",
       "      <td>62</td>\n",
       "      <td>JARDIM DA PENHA</td>\n",
       "      <td>0</td>\n",
       "      <td>1</td>\n",
       "      <td>0</td>\n",
       "      <td>0</td>\n",
       "      <td>0</td>\n",
       "      <td>0</td>\n",
       "      <td>No</td>\n",
       "    </tr>\n",
       "    <tr>\n",
       "      <th>1</th>\n",
       "      <td>M</td>\n",
       "      <td>2016-04-29T16:08:27Z</td>\n",
       "      <td>2016-04-29T00:00:00Z</td>\n",
       "      <td>56</td>\n",
       "      <td>JARDIM DA PENHA</td>\n",
       "      <td>0</td>\n",
       "      <td>0</td>\n",
       "      <td>0</td>\n",
       "      <td>0</td>\n",
       "      <td>0</td>\n",
       "      <td>0</td>\n",
       "      <td>No</td>\n",
       "    </tr>\n",
       "    <tr>\n",
       "      <th>2</th>\n",
       "      <td>F</td>\n",
       "      <td>2016-04-29T16:19:04Z</td>\n",
       "      <td>2016-04-29T00:00:00Z</td>\n",
       "      <td>62</td>\n",
       "      <td>MATA DA PRAIA</td>\n",
       "      <td>0</td>\n",
       "      <td>0</td>\n",
       "      <td>0</td>\n",
       "      <td>0</td>\n",
       "      <td>0</td>\n",
       "      <td>0</td>\n",
       "      <td>No</td>\n",
       "    </tr>\n",
       "    <tr>\n",
       "      <th>3</th>\n",
       "      <td>F</td>\n",
       "      <td>2016-04-29T17:29:31Z</td>\n",
       "      <td>2016-04-29T00:00:00Z</td>\n",
       "      <td>8</td>\n",
       "      <td>PONTAL DE CAMBURI</td>\n",
       "      <td>0</td>\n",
       "      <td>0</td>\n",
       "      <td>0</td>\n",
       "      <td>0</td>\n",
       "      <td>0</td>\n",
       "      <td>0</td>\n",
       "      <td>No</td>\n",
       "    </tr>\n",
       "    <tr>\n",
       "      <th>4</th>\n",
       "      <td>F</td>\n",
       "      <td>2016-04-29T16:07:23Z</td>\n",
       "      <td>2016-04-29T00:00:00Z</td>\n",
       "      <td>56</td>\n",
       "      <td>JARDIM DA PENHA</td>\n",
       "      <td>0</td>\n",
       "      <td>1</td>\n",
       "      <td>1</td>\n",
       "      <td>0</td>\n",
       "      <td>0</td>\n",
       "      <td>0</td>\n",
       "      <td>No</td>\n",
       "    </tr>\n",
       "  </tbody>\n",
       "</table>\n",
       "</div>"
      ],
      "text/plain": [
       "  Gender          ScheduledDay        AppointmentDay  Age      Neighbourhood  \\\n",
       "0      F  2016-04-29T18:38:08Z  2016-04-29T00:00:00Z   62    JARDIM DA PENHA   \n",
       "1      M  2016-04-29T16:08:27Z  2016-04-29T00:00:00Z   56    JARDIM DA PENHA   \n",
       "2      F  2016-04-29T16:19:04Z  2016-04-29T00:00:00Z   62      MATA DA PRAIA   \n",
       "3      F  2016-04-29T17:29:31Z  2016-04-29T00:00:00Z    8  PONTAL DE CAMBURI   \n",
       "4      F  2016-04-29T16:07:23Z  2016-04-29T00:00:00Z   56    JARDIM DA PENHA   \n",
       "\n",
       "   Scholarship  Hipertension  Diabetes  Alcoholism  Handcap  SMS_received  \\\n",
       "0            0             1         0           0        0             0   \n",
       "1            0             0         0           0        0             0   \n",
       "2            0             0         0           0        0             0   \n",
       "3            0             0         0           0        0             0   \n",
       "4            0             1         1           0        0             0   \n",
       "\n",
       "  No-show  \n",
       "0      No  \n",
       "1      No  \n",
       "2      No  \n",
       "3      No  \n",
       "4      No  "
      ]
     },
     "execution_count": 564,
     "metadata": {},
     "output_type": "execute_result"
    }
   ],
   "source": [
    "# This drops the two columns for AppointmentID and PatientID and store these changes in the current dataframe\n",
    "df.drop(['AppointmentID', 'PatientId'], axis=1, inplace=True)\n",
    "df.head()"
   ]
  },
  {
   "cell_type": "code",
   "execution_count": 565,
   "metadata": {
    "scrolled": true
   },
   "outputs": [
    {
     "data": {
      "text/html": [
       "<div>\n",
       "<style scoped>\n",
       "    .dataframe tbody tr th:only-of-type {\n",
       "        vertical-align: middle;\n",
       "    }\n",
       "\n",
       "    .dataframe tbody tr th {\n",
       "        vertical-align: top;\n",
       "    }\n",
       "\n",
       "    .dataframe thead th {\n",
       "        text-align: right;\n",
       "    }\n",
       "</style>\n",
       "<table border=\"1\" class=\"dataframe\">\n",
       "  <thead>\n",
       "    <tr style=\"text-align: right;\">\n",
       "      <th></th>\n",
       "      <th>Age</th>\n",
       "      <th>Scholarship</th>\n",
       "      <th>Hipertension</th>\n",
       "      <th>Diabetes</th>\n",
       "      <th>Alcoholism</th>\n",
       "      <th>Handcap</th>\n",
       "      <th>SMS_received</th>\n",
       "    </tr>\n",
       "  </thead>\n",
       "  <tbody>\n",
       "    <tr>\n",
       "      <th>count</th>\n",
       "      <td>110527.000000</td>\n",
       "      <td>110527.000000</td>\n",
       "      <td>110527.000000</td>\n",
       "      <td>110527.000000</td>\n",
       "      <td>110527.000000</td>\n",
       "      <td>110527.000000</td>\n",
       "      <td>110527.000000</td>\n",
       "    </tr>\n",
       "    <tr>\n",
       "      <th>mean</th>\n",
       "      <td>37.088874</td>\n",
       "      <td>0.098266</td>\n",
       "      <td>0.197246</td>\n",
       "      <td>0.071865</td>\n",
       "      <td>0.030400</td>\n",
       "      <td>0.022248</td>\n",
       "      <td>0.321026</td>\n",
       "    </tr>\n",
       "    <tr>\n",
       "      <th>std</th>\n",
       "      <td>23.110205</td>\n",
       "      <td>0.297675</td>\n",
       "      <td>0.397921</td>\n",
       "      <td>0.258265</td>\n",
       "      <td>0.171686</td>\n",
       "      <td>0.161543</td>\n",
       "      <td>0.466873</td>\n",
       "    </tr>\n",
       "    <tr>\n",
       "      <th>min</th>\n",
       "      <td>-1.000000</td>\n",
       "      <td>0.000000</td>\n",
       "      <td>0.000000</td>\n",
       "      <td>0.000000</td>\n",
       "      <td>0.000000</td>\n",
       "      <td>0.000000</td>\n",
       "      <td>0.000000</td>\n",
       "    </tr>\n",
       "    <tr>\n",
       "      <th>25%</th>\n",
       "      <td>18.000000</td>\n",
       "      <td>0.000000</td>\n",
       "      <td>0.000000</td>\n",
       "      <td>0.000000</td>\n",
       "      <td>0.000000</td>\n",
       "      <td>0.000000</td>\n",
       "      <td>0.000000</td>\n",
       "    </tr>\n",
       "    <tr>\n",
       "      <th>50%</th>\n",
       "      <td>37.000000</td>\n",
       "      <td>0.000000</td>\n",
       "      <td>0.000000</td>\n",
       "      <td>0.000000</td>\n",
       "      <td>0.000000</td>\n",
       "      <td>0.000000</td>\n",
       "      <td>0.000000</td>\n",
       "    </tr>\n",
       "    <tr>\n",
       "      <th>75%</th>\n",
       "      <td>55.000000</td>\n",
       "      <td>0.000000</td>\n",
       "      <td>0.000000</td>\n",
       "      <td>0.000000</td>\n",
       "      <td>0.000000</td>\n",
       "      <td>0.000000</td>\n",
       "      <td>1.000000</td>\n",
       "    </tr>\n",
       "    <tr>\n",
       "      <th>max</th>\n",
       "      <td>115.000000</td>\n",
       "      <td>1.000000</td>\n",
       "      <td>1.000000</td>\n",
       "      <td>1.000000</td>\n",
       "      <td>1.000000</td>\n",
       "      <td>4.000000</td>\n",
       "      <td>1.000000</td>\n",
       "    </tr>\n",
       "  </tbody>\n",
       "</table>\n",
       "</div>"
      ],
      "text/plain": [
       "                 Age    Scholarship   Hipertension       Diabetes  \\\n",
       "count  110527.000000  110527.000000  110527.000000  110527.000000   \n",
       "mean       37.088874       0.098266       0.197246       0.071865   \n",
       "std        23.110205       0.297675       0.397921       0.258265   \n",
       "min        -1.000000       0.000000       0.000000       0.000000   \n",
       "25%        18.000000       0.000000       0.000000       0.000000   \n",
       "50%        37.000000       0.000000       0.000000       0.000000   \n",
       "75%        55.000000       0.000000       0.000000       0.000000   \n",
       "max       115.000000       1.000000       1.000000       1.000000   \n",
       "\n",
       "          Alcoholism        Handcap   SMS_received  \n",
       "count  110527.000000  110527.000000  110527.000000  \n",
       "mean        0.030400       0.022248       0.321026  \n",
       "std         0.171686       0.161543       0.466873  \n",
       "min         0.000000       0.000000       0.000000  \n",
       "25%         0.000000       0.000000       0.000000  \n",
       "50%         0.000000       0.000000       0.000000  \n",
       "75%         0.000000       0.000000       1.000000  \n",
       "max         1.000000       4.000000       1.000000  "
      ]
     },
     "execution_count": 565,
     "metadata": {},
     "output_type": "execute_result"
    }
   ],
   "source": [
    "# This gives us the basic statistics for our dataframe\n",
    "df.describe()"
   ]
  },
  {
   "cell_type": "markdown",
   "metadata": {},
   "source": [
    "> There are two problems that can be quickly noticed from the basic statistics:\n",
    ">>1. The age has some wrong values (we have to clean it).\n",
    ">>2. The stats for diabestes, alcoholism, handicap and scholarship are very minority in this dataset (means of each are less than 10%). We are not going to exclude them, as for example, handicapped people are typically a minority in a large dataset. However, we have to keep this in mind when drawing conclusions (i.e., we state that any conclusions based on observations on these small sub-populations are in fact from a small sub-sample in a large dataset, and futher investigation is necessary)"
   ]
  },
  {
   "cell_type": "markdown",
   "metadata": {},
   "source": [
    "### Data Cleaning (Replace this with more specific notes!)\n",
    "> We now start the process of data cleaning. First we have already checked before dropping some columns if there are any duplicate records, so we do not need that check again (in fact, we can get duplicate records given that the dropped columns for the patientID and appointmentID are the primary key in this original dataset).\n",
    "\n",
    "> In addition, we can explicity check for missing values"
   ]
  },
  {
   "cell_type": "code",
   "execution_count": 566,
   "metadata": {},
   "outputs": [
    {
     "data": {
      "text/plain": [
       "635"
      ]
     },
     "execution_count": 566,
     "metadata": {},
     "output_type": "execute_result"
    }
   ],
   "source": [
    "# This shows how many duplicate records we have in our dataframe\n",
    "sum(df.duplicated())"
   ]
  },
  {
   "cell_type": "code",
   "execution_count": 567,
   "metadata": {},
   "outputs": [
    {
     "data": {
      "text/plain": [
       "Gender            0\n",
       "ScheduledDay      0\n",
       "AppointmentDay    0\n",
       "Age               0\n",
       "Neighbourhood     0\n",
       "Scholarship       0\n",
       "Hipertension      0\n",
       "Diabetes          0\n",
       "Alcoholism        0\n",
       "Handcap           0\n",
       "SMS_received      0\n",
       "No-show           0\n",
       "dtype: int64"
      ]
     },
     "execution_count": 567,
     "metadata": {},
     "output_type": "execute_result"
    }
   ],
   "source": [
    "# This checks for any null value in our dataframe.\n",
    "df.isnull().sum()"
   ]
  },
  {
   "cell_type": "markdown",
   "metadata": {},
   "source": [
    "> So indeed we have duplicate values in the reduced dataset, but that is ok (since these are not duplicates in the original data set). In addition, we do not have missing values.\n",
    "\n",
    "> Now, let us fix the age issue, by checking how many values are less than zero.\n",
    ">>NOTE: We can think also of dropping Ages that are less than 1, but that might be wrong--given that an infant age can be actually below 1 year."
   ]
  },
  {
   "cell_type": "code",
   "execution_count": 568,
   "metadata": {},
   "outputs": [
    {
     "data": {
      "text/html": [
       "<div>\n",
       "<style scoped>\n",
       "    .dataframe tbody tr th:only-of-type {\n",
       "        vertical-align: middle;\n",
       "    }\n",
       "\n",
       "    .dataframe tbody tr th {\n",
       "        vertical-align: top;\n",
       "    }\n",
       "\n",
       "    .dataframe thead th {\n",
       "        text-align: right;\n",
       "    }\n",
       "</style>\n",
       "<table border=\"1\" class=\"dataframe\">\n",
       "  <thead>\n",
       "    <tr style=\"text-align: right;\">\n",
       "      <th></th>\n",
       "      <th>Gender</th>\n",
       "      <th>ScheduledDay</th>\n",
       "      <th>AppointmentDay</th>\n",
       "      <th>Age</th>\n",
       "      <th>Neighbourhood</th>\n",
       "      <th>Scholarship</th>\n",
       "      <th>Hipertension</th>\n",
       "      <th>Diabetes</th>\n",
       "      <th>Alcoholism</th>\n",
       "      <th>Handcap</th>\n",
       "      <th>SMS_received</th>\n",
       "      <th>No-show</th>\n",
       "    </tr>\n",
       "  </thead>\n",
       "  <tbody>\n",
       "    <tr>\n",
       "      <th>99832</th>\n",
       "      <td>F</td>\n",
       "      <td>2016-06-06T08:58:13Z</td>\n",
       "      <td>2016-06-06T00:00:00Z</td>\n",
       "      <td>-1</td>\n",
       "      <td>ROMÃO</td>\n",
       "      <td>0</td>\n",
       "      <td>0</td>\n",
       "      <td>0</td>\n",
       "      <td>0</td>\n",
       "      <td>0</td>\n",
       "      <td>0</td>\n",
       "      <td>No</td>\n",
       "    </tr>\n",
       "  </tbody>\n",
       "</table>\n",
       "</div>"
      ],
      "text/plain": [
       "      Gender          ScheduledDay        AppointmentDay  Age Neighbourhood  \\\n",
       "99832      F  2016-06-06T08:58:13Z  2016-06-06T00:00:00Z   -1         ROMÃO   \n",
       "\n",
       "       Scholarship  Hipertension  Diabetes  Alcoholism  Handcap  SMS_received  \\\n",
       "99832            0             0         0           0        0             0   \n",
       "\n",
       "      No-show  \n",
       "99832      No  "
      ]
     },
     "execution_count": 568,
     "metadata": {},
     "output_type": "execute_result"
    }
   ],
   "source": [
    "# Here we display all records that have an age below 0\n",
    "df[df['Age'] < 0]"
   ]
  },
  {
   "cell_type": "markdown",
   "metadata": {},
   "source": [
    "We see that only one recored is less than zero, so we can safely drop it."
   ]
  },
  {
   "cell_type": "code",
   "execution_count": 569,
   "metadata": {},
   "outputs": [
    {
     "data": {
      "text/html": [
       "<div>\n",
       "<style scoped>\n",
       "    .dataframe tbody tr th:only-of-type {\n",
       "        vertical-align: middle;\n",
       "    }\n",
       "\n",
       "    .dataframe tbody tr th {\n",
       "        vertical-align: top;\n",
       "    }\n",
       "\n",
       "    .dataframe thead th {\n",
       "        text-align: right;\n",
       "    }\n",
       "</style>\n",
       "<table border=\"1\" class=\"dataframe\">\n",
       "  <thead>\n",
       "    <tr style=\"text-align: right;\">\n",
       "      <th></th>\n",
       "      <th>Gender</th>\n",
       "      <th>ScheduledDay</th>\n",
       "      <th>AppointmentDay</th>\n",
       "      <th>Age</th>\n",
       "      <th>Neighbourhood</th>\n",
       "      <th>Scholarship</th>\n",
       "      <th>Hipertension</th>\n",
       "      <th>Diabetes</th>\n",
       "      <th>Alcoholism</th>\n",
       "      <th>Handcap</th>\n",
       "      <th>SMS_received</th>\n",
       "      <th>No-show</th>\n",
       "    </tr>\n",
       "  </thead>\n",
       "  <tbody>\n",
       "  </tbody>\n",
       "</table>\n",
       "</div>"
      ],
      "text/plain": [
       "Empty DataFrame\n",
       "Columns: [Gender, ScheduledDay, AppointmentDay, Age, Neighbourhood, Scholarship, Hipertension, Diabetes, Alcoholism, Handcap, SMS_received, No-show]\n",
       "Index: []"
      ]
     },
     "execution_count": 569,
     "metadata": {},
     "output_type": "execute_result"
    }
   ],
   "source": [
    "# We can simply drop by the record number\n",
    "df.drop(99832, inplace=True);\n",
    "\n",
    "# Recheck to see if the deletion took care of all below-0-age records\n",
    "df[df['Age'] < 0]"
   ]
  },
  {
   "cell_type": "markdown",
   "metadata": {},
   "source": [
    "> Next we need to convert the AppointmentDay and ScheduledDay to appropriate data formats"
   ]
  },
  {
   "cell_type": "code",
   "execution_count": 570,
   "metadata": {},
   "outputs": [],
   "source": [
    "# These calls changes the type of those columns from object to datetime\n",
    "df['ScheduledDay'] = pd.to_datetime(df['ScheduledDay'])\n",
    "df['AppointmentDay'] = pd.to_datetime(df['AppointmentDay'])"
   ]
  },
  {
   "cell_type": "code",
   "execution_count": 571,
   "metadata": {
    "scrolled": true
   },
   "outputs": [
    {
     "name": "stdout",
     "output_type": "stream",
     "text": [
      "<class 'pandas.core.frame.DataFrame'>\n",
      "Int64Index: 110526 entries, 0 to 110526\n",
      "Data columns (total 12 columns):\n",
      "Gender            110526 non-null object\n",
      "ScheduledDay      110526 non-null datetime64[ns, UTC]\n",
      "AppointmentDay    110526 non-null datetime64[ns, UTC]\n",
      "Age               110526 non-null int64\n",
      "Neighbourhood     110526 non-null object\n",
      "Scholarship       110526 non-null int64\n",
      "Hipertension      110526 non-null int64\n",
      "Diabetes          110526 non-null int64\n",
      "Alcoholism        110526 non-null int64\n",
      "Handcap           110526 non-null int64\n",
      "SMS_received      110526 non-null int64\n",
      "No-show           110526 non-null object\n",
      "dtypes: datetime64[ns, UTC](2), int64(7), object(3)\n",
      "memory usage: 11.0+ MB\n"
     ]
    }
   ],
   "source": [
    "# Check the dataframe to make sure our changes took effect\n",
    "df.info()"
   ]
  },
  {
   "cell_type": "markdown",
   "metadata": {},
   "source": [
    "> In addition, to be able to display gender and no-show in histograms and other statitical plots, we need to convert them to numbers"
   ]
  },
  {
   "cell_type": "code",
   "execution_count": 572,
   "metadata": {},
   "outputs": [
    {
     "data": {
      "text/plain": [
       "str"
      ]
     },
     "execution_count": 572,
     "metadata": {},
     "output_type": "execute_result"
    }
   ],
   "source": [
    "# Here we check what is the undelying gender type\n",
    "type(df['Gender'][0])"
   ]
  },
  {
   "cell_type": "code",
   "execution_count": 573,
   "metadata": {},
   "outputs": [],
   "source": [
    "# Change it to be integer so that it can be computed in statistics (for mean, std, ...)\n",
    "# This is done by creating a helping dictionary (gend), that we use to replace the items in the column\n",
    "gend = {'M': 1,'F': 2} \n",
    "df['Gender'] = [gend[item] for item in df.Gender]"
   ]
  },
  {
   "cell_type": "code",
   "execution_count": 574,
   "metadata": {
    "scrolled": true
   },
   "outputs": [
    {
     "name": "stdout",
     "output_type": "stream",
     "text": [
      "<class 'pandas.core.frame.DataFrame'>\n",
      "Int64Index: 110526 entries, 0 to 110526\n",
      "Data columns (total 12 columns):\n",
      "Gender            110526 non-null int64\n",
      "ScheduledDay      110526 non-null datetime64[ns, UTC]\n",
      "AppointmentDay    110526 non-null datetime64[ns, UTC]\n",
      "Age               110526 non-null int64\n",
      "Neighbourhood     110526 non-null object\n",
      "Scholarship       110526 non-null int64\n",
      "Hipertension      110526 non-null int64\n",
      "Diabetes          110526 non-null int64\n",
      "Alcoholism        110526 non-null int64\n",
      "Handcap           110526 non-null int64\n",
      "SMS_received      110526 non-null int64\n",
      "No-show           110526 non-null object\n",
      "dtypes: datetime64[ns, UTC](2), int64(8), object(2)\n",
      "memory usage: 16.0+ MB\n"
     ]
    }
   ],
   "source": [
    "df.info()"
   ]
  },
  {
   "cell_type": "code",
   "execution_count": 575,
   "metadata": {},
   "outputs": [
    {
     "data": {
      "text/plain": [
       "str"
      ]
     },
     "execution_count": 575,
     "metadata": {},
     "output_type": "execute_result"
    }
   ],
   "source": [
    "# Here we check the no-show column type\n",
    "type(df['No-show'][0])"
   ]
  },
  {
   "cell_type": "code",
   "execution_count": 576,
   "metadata": {},
   "outputs": [],
   "source": [
    "# Again we change it\n",
    "# This is done by creating a helping dictionary (noshow), that we use to replace the items in the column\n",
    "noshow = {'No': 0,'Yes': 1} \n",
    "df['No-show'] = [noshow[item] for item in df['No-show']]"
   ]
  },
  {
   "cell_type": "code",
   "execution_count": 577,
   "metadata": {},
   "outputs": [
    {
     "name": "stdout",
     "output_type": "stream",
     "text": [
      "<class 'pandas.core.frame.DataFrame'>\n",
      "Int64Index: 110526 entries, 0 to 110526\n",
      "Data columns (total 12 columns):\n",
      "Gender            110526 non-null int64\n",
      "ScheduledDay      110526 non-null datetime64[ns, UTC]\n",
      "AppointmentDay    110526 non-null datetime64[ns, UTC]\n",
      "Age               110526 non-null int64\n",
      "Neighbourhood     110526 non-null object\n",
      "Scholarship       110526 non-null int64\n",
      "Hipertension      110526 non-null int64\n",
      "Diabetes          110526 non-null int64\n",
      "Alcoholism        110526 non-null int64\n",
      "Handcap           110526 non-null int64\n",
      "SMS_received      110526 non-null int64\n",
      "No-show           110526 non-null int64\n",
      "dtypes: datetime64[ns, UTC](2), int64(9), object(1)\n",
      "memory usage: 16.0+ MB\n"
     ]
    }
   ],
   "source": [
    "df.info()"
   ]
  },
  {
   "cell_type": "markdown",
   "metadata": {},
   "source": [
    "> Now, we can display a histogram of all columns we are dealing with"
   ]
  },
  {
   "cell_type": "code",
   "execution_count": 578,
   "metadata": {
    "scrolled": false
   },
   "outputs": [
    {
     "data": {
      "image/png": "[encoded data removed]",
      "text/plain": [
       "<Figure size 720x720 with 9 Axes>"
      ]
     },
     "metadata": {
      "needs_background": "light"
     },
     "output_type": "display_data"
    }
   ],
   "source": [
    "# Here we display histograms for all our dataframe columns\n",
    "df.hist(figsize=(10,10));"
   ]
  },
  {
   "cell_type": "markdown",
   "metadata": {},
   "source": [
    "> We see that there is a major problem with our dataset. It is biased twoards the show (i.e., no-show = 0) side. Thus, we need to normalize the data by the value count of no-show and show when looking for correlations."
   ]
  },
  {
   "cell_type": "markdown",
   "metadata": {},
   "source": [
    "> One column which cannot be displayed is the neighbourhood, as it cannot be directly converted into numerical values. However, we can try to find how many unique neighbourhoods we have."
   ]
  },
  {
   "cell_type": "code",
   "execution_count": 579,
   "metadata": {},
   "outputs": [
    {
     "data": {
      "text/plain": [
       "81"
      ]
     },
     "execution_count": 579,
     "metadata": {},
     "output_type": "execute_result"
    }
   ],
   "source": [
    "# We check how many neighbourhood do we have by finding the number of unique values in the column\n",
    "df['Neighbourhood'].nunique()"
   ]
  },
  {
   "cell_type": "markdown",
   "metadata": {},
   "source": [
    "> We see that we have 81 unique neighborhood in our dataset. We can display a bar plot of them to have a look."
   ]
  },
  {
   "cell_type": "code",
   "execution_count": 580,
   "metadata": {
    "scrolled": true
   },
   "outputs": [
    {
     "data": {
      "text/plain": [
       "Text(0.5, 1.0, 'Disribution of Patient Appointment Records over Different Neighbourhoods')"
      ]
     },
     "execution_count": 580,
     "metadata": {},
     "output_type": "execute_result"
    },
    {
     "data": {
      "image/png": "[encoded data removed]",
      "text/plain": [
       "<Figure size 1080x1080 with 1 Axes>"
      ]
     },
     "metadata": {
      "needs_background": "light"
     },
     "output_type": "display_data"
    }
   ],
   "source": [
    "# Here we plot the values in a bar chart\n",
    "plt = df['Neighbourhood'].value_counts().plot(kind='bar',figsize=(15,15));\n",
    "plt.set_ylabel('Number of Records')\n",
    "plt.set_title('Disribution of Patient Appointment Records over Different Neighbourhoods')"
   ]
  },
  {
   "cell_type": "markdown",
   "metadata": {},
   "source": [
    "> We see that the data is scattered among these neighbourhoods, with Jardim Camburi having the most records (more than 7500 record)"
   ]
  },
  {
   "cell_type": "markdown",
   "metadata": {},
   "source": [
    "> By now, the data is almost ready, and we are now ready for the exploration."
   ]
  },
  {
   "cell_type": "markdown",
   "metadata": {},
   "source": [
    "<a id='eda'></a>\n",
    "## Exploratory Data Analysis\n",
    "\n",
    "> We are going to explore the correlation between the below factors and the tendency of missing an appointment (i.e., having a no-show):\n",
    ">> 1. The duration between the scheduling day and the appointment day\n",
    ">> 2. The reciption of the appointment SMS message\n",
    ">> 3. The enrollment in Bolsa Familia welfare program\n",
    ">> 4. The health conditions (hypertension, alchoholism, diabetes)\n",
    ">> 5. The age\n",
    "\n",
    "> For this, we will split the dataset into two different sub-datasets, one for the records with show, and one for the records with no-show."
   ]
  },
  {
   "cell_type": "code",
   "execution_count": 581,
   "metadata": {
    "scrolled": true
   },
   "outputs": [
    {
     "data": {
      "text/plain": [
       "Gender            88207\n",
       "ScheduledDay      88207\n",
       "AppointmentDay    88207\n",
       "Age               88207\n",
       "Neighbourhood     88207\n",
       "Scholarship       88207\n",
       "Hipertension      88207\n",
       "Diabetes          88207\n",
       "Alcoholism        88207\n",
       "Handcap           88207\n",
       "SMS_received      88207\n",
       "No-show           88207\n",
       "dtype: int64"
      ]
     },
     "execution_count": 581,
     "metadata": {},
     "output_type": "execute_result"
    }
   ],
   "source": [
    "# Here we create a sub dataframe for all records with No-Show column = 0 \n",
    "df_show = df[df['No-show'] == 0]\n",
    "df_show.count()"
   ]
  },
  {
   "cell_type": "code",
   "execution_count": 582,
   "metadata": {},
   "outputs": [
    {
     "data": {
      "text/plain": [
       "Gender            22319\n",
       "ScheduledDay      22319\n",
       "AppointmentDay    22319\n",
       "Age               22319\n",
       "Neighbourhood     22319\n",
       "Scholarship       22319\n",
       "Hipertension      22319\n",
       "Diabetes          22319\n",
       "Alcoholism        22319\n",
       "Handcap           22319\n",
       "SMS_received      22319\n",
       "No-show           22319\n",
       "dtype: int64"
      ]
     },
     "execution_count": 582,
     "metadata": {},
     "output_type": "execute_result"
    }
   ],
   "source": [
    "# Here we create a sub dataframe for all records with No-Show column = 1 \n",
    "df_noshow = df[df['No-show'] == 1]\n",
    "df_noshow.count()"
   ]
  },
  {
   "cell_type": "markdown",
   "metadata": {},
   "source": [
    "### Research Question 1: Does the Duration between the Scheduling Day and the Appointment Day Affects the Tendency to Miss an Appointment?\n",
    "\n",
    "> For investigating this, we need to create a new column representing the difference between the scheduling day and the appointment day. We noticed that the AppointmentDay column has no hour, minute and second resolution, so we only subtract the days (as this is the only resolution we can have)."
   ]
  },
  {
   "cell_type": "code",
   "execution_count": 583,
   "metadata": {},
   "outputs": [
    {
     "data": {
      "text/html": [
       "<div>\n",
       "<style scoped>\n",
       "    .dataframe tbody tr th:only-of-type {\n",
       "        vertical-align: middle;\n",
       "    }\n",
       "\n",
       "    .dataframe tbody tr th {\n",
       "        vertical-align: top;\n",
       "    }\n",
       "\n",
       "    .dataframe thead th {\n",
       "        text-align: right;\n",
       "    }\n",
       "</style>\n",
       "<table border=\"1\" class=\"dataframe\">\n",
       "  <thead>\n",
       "    <tr style=\"text-align: right;\">\n",
       "      <th></th>\n",
       "      <th>Gender</th>\n",
       "      <th>Age</th>\n",
       "      <th>Scholarship</th>\n",
       "      <th>Hipertension</th>\n",
       "      <th>Diabetes</th>\n",
       "      <th>Alcoholism</th>\n",
       "      <th>Handcap</th>\n",
       "      <th>SMS_received</th>\n",
       "      <th>No-show</th>\n",
       "      <th>ApptToSchedTime</th>\n",
       "    </tr>\n",
       "  </thead>\n",
       "  <tbody>\n",
       "    <tr>\n",
       "      <th>count</th>\n",
       "      <td>110526.000000</td>\n",
       "      <td>110526.000000</td>\n",
       "      <td>110526.000000</td>\n",
       "      <td>110526.000000</td>\n",
       "      <td>110526.000000</td>\n",
       "      <td>110526.000000</td>\n",
       "      <td>110526.000000</td>\n",
       "      <td>110526.000000</td>\n",
       "      <td>110526.000000</td>\n",
       "      <td>110526</td>\n",
       "    </tr>\n",
       "    <tr>\n",
       "      <th>mean</th>\n",
       "      <td>1.649974</td>\n",
       "      <td>37.089219</td>\n",
       "      <td>0.098266</td>\n",
       "      <td>0.197248</td>\n",
       "      <td>0.071865</td>\n",
       "      <td>0.030400</td>\n",
       "      <td>0.022248</td>\n",
       "      <td>0.321029</td>\n",
       "      <td>0.201934</td>\n",
       "      <td>10 days 04:24:39.789370</td>\n",
       "    </tr>\n",
       "    <tr>\n",
       "      <th>std</th>\n",
       "      <td>0.476980</td>\n",
       "      <td>23.110026</td>\n",
       "      <td>0.297676</td>\n",
       "      <td>0.397923</td>\n",
       "      <td>0.258266</td>\n",
       "      <td>0.171686</td>\n",
       "      <td>0.161543</td>\n",
       "      <td>0.466874</td>\n",
       "      <td>0.401445</td>\n",
       "      <td>15 days 06:07:14.979140</td>\n",
       "    </tr>\n",
       "    <tr>\n",
       "      <th>min</th>\n",
       "      <td>1.000000</td>\n",
       "      <td>0.000000</td>\n",
       "      <td>0.000000</td>\n",
       "      <td>0.000000</td>\n",
       "      <td>0.000000</td>\n",
       "      <td>0.000000</td>\n",
       "      <td>0.000000</td>\n",
       "      <td>0.000000</td>\n",
       "      <td>0.000000</td>\n",
       "      <td>-6 days +00:00:00</td>\n",
       "    </tr>\n",
       "    <tr>\n",
       "      <th>25%</th>\n",
       "      <td>1.000000</td>\n",
       "      <td>18.000000</td>\n",
       "      <td>0.000000</td>\n",
       "      <td>0.000000</td>\n",
       "      <td>0.000000</td>\n",
       "      <td>0.000000</td>\n",
       "      <td>0.000000</td>\n",
       "      <td>0.000000</td>\n",
       "      <td>0.000000</td>\n",
       "      <td>0 days 00:00:00</td>\n",
       "    </tr>\n",
       "    <tr>\n",
       "      <th>50%</th>\n",
       "      <td>2.000000</td>\n",
       "      <td>37.000000</td>\n",
       "      <td>0.000000</td>\n",
       "      <td>0.000000</td>\n",
       "      <td>0.000000</td>\n",
       "      <td>0.000000</td>\n",
       "      <td>0.000000</td>\n",
       "      <td>0.000000</td>\n",
       "      <td>0.000000</td>\n",
       "      <td>4 days 00:00:00</td>\n",
       "    </tr>\n",
       "    <tr>\n",
       "      <th>75%</th>\n",
       "      <td>2.000000</td>\n",
       "      <td>55.000000</td>\n",
       "      <td>0.000000</td>\n",
       "      <td>0.000000</td>\n",
       "      <td>0.000000</td>\n",
       "      <td>0.000000</td>\n",
       "      <td>0.000000</td>\n",
       "      <td>1.000000</td>\n",
       "      <td>0.000000</td>\n",
       "      <td>15 days 00:00:00</td>\n",
       "    </tr>\n",
       "    <tr>\n",
       "      <th>max</th>\n",
       "      <td>2.000000</td>\n",
       "      <td>115.000000</td>\n",
       "      <td>1.000000</td>\n",
       "      <td>1.000000</td>\n",
       "      <td>1.000000</td>\n",
       "      <td>1.000000</td>\n",
       "      <td>4.000000</td>\n",
       "      <td>1.000000</td>\n",
       "      <td>1.000000</td>\n",
       "      <td>179 days 00:00:00</td>\n",
       "    </tr>\n",
       "  </tbody>\n",
       "</table>\n",
       "</div>"
      ],
      "text/plain": [
       "              Gender            Age    Scholarship   Hipertension  \\\n",
       "count  110526.000000  110526.000000  110526.000000  110526.000000   \n",
       "mean        1.649974      37.089219       0.098266       0.197248   \n",
       "std         0.476980      23.110026       0.297676       0.397923   \n",
       "min         1.000000       0.000000       0.000000       0.000000   \n",
       "25%         1.000000      18.000000       0.000000       0.000000   \n",
       "50%         2.000000      37.000000       0.000000       0.000000   \n",
       "75%         2.000000      55.000000       0.000000       0.000000   \n",
       "max         2.000000     115.000000       1.000000       1.000000   \n",
       "\n",
       "            Diabetes     Alcoholism        Handcap   SMS_received  \\\n",
       "count  110526.000000  110526.000000  110526.000000  110526.000000   \n",
       "mean        0.071865       0.030400       0.022248       0.321029   \n",
       "std         0.258266       0.171686       0.161543       0.466874   \n",
       "min         0.000000       0.000000       0.000000       0.000000   \n",
       "25%         0.000000       0.000000       0.000000       0.000000   \n",
       "50%         0.000000       0.000000       0.000000       0.000000   \n",
       "75%         0.000000       0.000000       0.000000       1.000000   \n",
       "max         1.000000       1.000000       4.000000       1.000000   \n",
       "\n",
       "             No-show          ApptToSchedTime  \n",
       "count  110526.000000                   110526  \n",
       "mean        0.201934  10 days 04:24:39.789370  \n",
       "std         0.401445  15 days 06:07:14.979140  \n",
       "min         0.000000        -6 days +00:00:00  \n",
       "25%         0.000000          0 days 00:00:00  \n",
       "50%         0.000000          4 days 00:00:00  \n",
       "75%         0.000000         15 days 00:00:00  \n",
       "max         1.000000        179 days 00:00:00  "
      ]
     },
     "execution_count": 583,
     "metadata": {},
     "output_type": "execute_result"
    }
   ],
   "source": [
    "# -- Here we add a column to our dataframe, which equals the difference between the Appointment day and the Scheduling day\n",
    "# -- The type of the column will be a timedelta type\n",
    "# -- Since the AppointmentDay column in the original dataset has no hour/min/sec resolution, we only subtract days using \n",
    "#    the values.astype() functionality, which takes a string representing the format we want to get... \n",
    "df['ApptToSchedTime'] = df['AppointmentDay'].values.astype('<M8[D]') - df['ScheduledDay'].values.astype('<M8[D]')\n",
    "df.describe()"
   ]
  },
  {
   "cell_type": "markdown",
   "metadata": {},
   "source": [
    "> We see that the duration can be negative, which means that the our data have some problem. So, we will try to see how many records are having this issue"
   ]
  },
  {
   "cell_type": "code",
   "execution_count": 584,
   "metadata": {
    "scrolled": true
   },
   "outputs": [
    {
     "data": {
      "text/html": [
       "<div>\n",
       "<style scoped>\n",
       "    .dataframe tbody tr th:only-of-type {\n",
       "        vertical-align: middle;\n",
       "    }\n",
       "\n",
       "    .dataframe tbody tr th {\n",
       "        vertical-align: top;\n",
       "    }\n",
       "\n",
       "    .dataframe thead th {\n",
       "        text-align: right;\n",
       "    }\n",
       "</style>\n",
       "<table border=\"1\" class=\"dataframe\">\n",
       "  <thead>\n",
       "    <tr style=\"text-align: right;\">\n",
       "      <th></th>\n",
       "      <th>Gender</th>\n",
       "      <th>ScheduledDay</th>\n",
       "      <th>AppointmentDay</th>\n",
       "      <th>Age</th>\n",
       "      <th>Neighbourhood</th>\n",
       "      <th>Scholarship</th>\n",
       "      <th>Hipertension</th>\n",
       "      <th>Diabetes</th>\n",
       "      <th>Alcoholism</th>\n",
       "      <th>Handcap</th>\n",
       "      <th>SMS_received</th>\n",
       "      <th>No-show</th>\n",
       "      <th>ApptToSchedTime</th>\n",
       "    </tr>\n",
       "  </thead>\n",
       "  <tbody>\n",
       "    <tr>\n",
       "      <th>27033</th>\n",
       "      <td>1</td>\n",
       "      <td>2016-05-10 10:51:53+00:00</td>\n",
       "      <td>2016-05-09 00:00:00+00:00</td>\n",
       "      <td>38</td>\n",
       "      <td>RESISTÊNCIA</td>\n",
       "      <td>0</td>\n",
       "      <td>0</td>\n",
       "      <td>0</td>\n",
       "      <td>0</td>\n",
       "      <td>1</td>\n",
       "      <td>0</td>\n",
       "      <td>1</td>\n",
       "      <td>-1 days</td>\n",
       "    </tr>\n",
       "    <tr>\n",
       "      <th>55226</th>\n",
       "      <td>2</td>\n",
       "      <td>2016-05-18 14:50:41+00:00</td>\n",
       "      <td>2016-05-17 00:00:00+00:00</td>\n",
       "      <td>19</td>\n",
       "      <td>SANTO ANTÔNIO</td>\n",
       "      <td>0</td>\n",
       "      <td>0</td>\n",
       "      <td>0</td>\n",
       "      <td>0</td>\n",
       "      <td>1</td>\n",
       "      <td>0</td>\n",
       "      <td>1</td>\n",
       "      <td>-1 days</td>\n",
       "    </tr>\n",
       "    <tr>\n",
       "      <th>64175</th>\n",
       "      <td>2</td>\n",
       "      <td>2016-05-05 13:43:58+00:00</td>\n",
       "      <td>2016-05-04 00:00:00+00:00</td>\n",
       "      <td>22</td>\n",
       "      <td>CONSOLAÇÃO</td>\n",
       "      <td>0</td>\n",
       "      <td>0</td>\n",
       "      <td>0</td>\n",
       "      <td>0</td>\n",
       "      <td>0</td>\n",
       "      <td>0</td>\n",
       "      <td>1</td>\n",
       "      <td>-1 days</td>\n",
       "    </tr>\n",
       "    <tr>\n",
       "      <th>71533</th>\n",
       "      <td>2</td>\n",
       "      <td>2016-05-11 13:49:20+00:00</td>\n",
       "      <td>2016-05-05 00:00:00+00:00</td>\n",
       "      <td>81</td>\n",
       "      <td>SANTO ANTÔNIO</td>\n",
       "      <td>0</td>\n",
       "      <td>0</td>\n",
       "      <td>0</td>\n",
       "      <td>0</td>\n",
       "      <td>0</td>\n",
       "      <td>0</td>\n",
       "      <td>1</td>\n",
       "      <td>-6 days</td>\n",
       "    </tr>\n",
       "    <tr>\n",
       "      <th>72362</th>\n",
       "      <td>1</td>\n",
       "      <td>2016-05-04 06:50:57+00:00</td>\n",
       "      <td>2016-05-03 00:00:00+00:00</td>\n",
       "      <td>7</td>\n",
       "      <td>TABUAZEIRO</td>\n",
       "      <td>0</td>\n",
       "      <td>0</td>\n",
       "      <td>0</td>\n",
       "      <td>0</td>\n",
       "      <td>0</td>\n",
       "      <td>0</td>\n",
       "      <td>1</td>\n",
       "      <td>-1 days</td>\n",
       "    </tr>\n",
       "  </tbody>\n",
       "</table>\n",
       "</div>"
      ],
      "text/plain": [
       "       Gender              ScheduledDay            AppointmentDay  Age  \\\n",
       "27033       1 2016-05-10 10:51:53+00:00 2016-05-09 00:00:00+00:00   38   \n",
       "55226       2 2016-05-18 14:50:41+00:00 2016-05-17 00:00:00+00:00   19   \n",
       "64175       2 2016-05-05 13:43:58+00:00 2016-05-04 00:00:00+00:00   22   \n",
       "71533       2 2016-05-11 13:49:20+00:00 2016-05-05 00:00:00+00:00   81   \n",
       "72362       1 2016-05-04 06:50:57+00:00 2016-05-03 00:00:00+00:00    7   \n",
       "\n",
       "       Neighbourhood  Scholarship  Hipertension  Diabetes  Alcoholism  \\\n",
       "27033    RESISTÊNCIA            0             0         0           0   \n",
       "55226  SANTO ANTÔNIO            0             0         0           0   \n",
       "64175     CONSOLAÇÃO            0             0         0           0   \n",
       "71533  SANTO ANTÔNIO            0             0         0           0   \n",
       "72362     TABUAZEIRO            0             0         0           0   \n",
       "\n",
       "       Handcap  SMS_received  No-show ApptToSchedTime  \n",
       "27033        1             0        1         -1 days  \n",
       "55226        1             0        1         -1 days  \n",
       "64175        0             0        1         -1 days  \n",
       "71533        0             0        1         -6 days  \n",
       "72362        0             0        1         -1 days  "
      ]
     },
     "execution_count": 584,
     "metadata": {},
     "output_type": "execute_result"
    }
   ],
   "source": [
    "# Now we check how many records have negative numbers, by creating a timedelta object of size 0, to compare against...\n",
    "td0 = datetime.timedelta(0)\n",
    "df[df['ApptToSchedTime'] < td0]"
   ]
  },
  {
   "cell_type": "markdown",
   "metadata": {},
   "source": [
    "> We see that only five records, and in all of them the time difference is greater than 1 day, which does not make sense. So, we can safely drop them."
   ]
  },
  {
   "cell_type": "code",
   "execution_count": 585,
   "metadata": {
    "scrolled": true
   },
   "outputs": [
    {
     "data": {
      "text/html": [
       "<div>\n",
       "<style scoped>\n",
       "    .dataframe tbody tr th:only-of-type {\n",
       "        vertical-align: middle;\n",
       "    }\n",
       "\n",
       "    .dataframe tbody tr th {\n",
       "        vertical-align: top;\n",
       "    }\n",
       "\n",
       "    .dataframe thead th {\n",
       "        text-align: right;\n",
       "    }\n",
       "</style>\n",
       "<table border=\"1\" class=\"dataframe\">\n",
       "  <thead>\n",
       "    <tr style=\"text-align: right;\">\n",
       "      <th></th>\n",
       "      <th>Gender</th>\n",
       "      <th>ScheduledDay</th>\n",
       "      <th>AppointmentDay</th>\n",
       "      <th>Age</th>\n",
       "      <th>Neighbourhood</th>\n",
       "      <th>Scholarship</th>\n",
       "      <th>Hipertension</th>\n",
       "      <th>Diabetes</th>\n",
       "      <th>Alcoholism</th>\n",
       "      <th>Handcap</th>\n",
       "      <th>SMS_received</th>\n",
       "      <th>No-show</th>\n",
       "      <th>ApptToSchedTime</th>\n",
       "    </tr>\n",
       "  </thead>\n",
       "  <tbody>\n",
       "  </tbody>\n",
       "</table>\n",
       "</div>"
      ],
      "text/plain": [
       "Empty DataFrame\n",
       "Columns: [Gender, ScheduledDay, AppointmentDay, Age, Neighbourhood, Scholarship, Hipertension, Diabetes, Alcoholism, Handcap, SMS_received, No-show, ApptToSchedTime]\n",
       "Index: []"
      ]
     },
     "execution_count": 585,
     "metadata": {},
     "output_type": "execute_result"
    }
   ],
   "source": [
    "# We drop these records using their serial number\n",
    "df.drop(27033, inplace=True);\n",
    "df.drop(55226, inplace=True);\n",
    "df.drop(64175, inplace=True);\n",
    "df.drop(71533, inplace=True);\n",
    "df.drop(72362, inplace=True);\n",
    "df[df['ApptToSchedTime'] < td0]"
   ]
  },
  {
   "cell_type": "markdown",
   "metadata": {},
   "source": [
    "> Now we will display the mean and stadard deviation of the duration for each group."
   ]
  },
  {
   "cell_type": "code",
   "execution_count": 586,
   "metadata": {
    "scrolled": true
   },
   "outputs": [
    {
     "data": {
      "text/plain": [
       "count                      88207\n",
       "mean      8 days 18:06:51.151042\n",
       "std      14 days 13:12:38.918695\n",
       "min              0 days 00:00:00\n",
       "25%              0 days 00:00:00\n",
       "50%              2 days 00:00:00\n",
       "75%             12 days 00:00:00\n",
       "max            179 days 00:00:00\n",
       "Name: ApptToSchedTime, dtype: object"
      ]
     },
     "execution_count": 586,
     "metadata": {},
     "output_type": "execute_result"
    }
   ],
   "source": [
    "# Now we check the summary stats of our new column, in the show subset of our dataframe\n",
    "df_show = df[df['No-show'] == 0]\n",
    "df_show['ApptToSchedTime'].describe()"
   ]
  },
  {
   "cell_type": "code",
   "execution_count": 587,
   "metadata": {
    "scrolled": true
   },
   "outputs": [
    {
     "data": {
      "text/plain": [
       "count                      22314\n",
       "mean     15 days 20:03:05.856413\n",
       "std      16 days 14:32:03.799276\n",
       "min              0 days 00:00:00\n",
       "25%              4 days 00:00:00\n",
       "50%             11 days 00:00:00\n",
       "75%             23 days 00:00:00\n",
       "max            179 days 00:00:00\n",
       "Name: ApptToSchedTime, dtype: object"
      ]
     },
     "execution_count": 587,
     "metadata": {},
     "output_type": "execute_result"
    }
   ],
   "source": [
    "# Now we check the summary stats of our new column, in the no-show subset of our dataframe\n",
    "\n",
    "df_noshow = df[df['No-show'] == 1]\n",
    "df_noshow['ApptToSchedTime'].describe()"
   ]
  },
  {
   "cell_type": "markdown",
   "metadata": {},
   "source": [
    "> We clearly see that the mean value for the duration in the case of no-show is higher, as expected. In addition, to assure that our statistics are not skewed, we see that the standard deviation, minimum and maximum for both samples are very similar, which gives confidence to our hypothesis. We can visualize this difference nicely by histograms of the sample-size normalized data (which should sum up to the means)."
   ]
  },
  {
   "cell_type": "code",
   "execution_count": 588,
   "metadata": {
    "scrolled": true
   },
   "outputs": [
    {
     "name": "stdout",
     "output_type": "stream",
     "text": [
      "sum of no-show durations =  15.835484449223976  days\n",
      "sum of show durations    =  8.754758692619985  days\n"
     ]
    },
    {
     "data": {
      "image/png": "[encoded data removed]",
      "text/plain": [
       "<Figure size 720x288 with 1 Axes>"
      ]
     },
     "metadata": {
      "needs_background": "light"
     },
     "output_type": "display_data"
    }
   ],
   "source": [
    "# Here we plot the histograms of each group, normalized to their count\n",
    "\n",
    "# First we do the normailzation in a new series\n",
    "# Note that we need to extract the days value from the timedelta object, to be able to normalize it...\n",
    "df_noshow_normalized = df_noshow['ApptToSchedTime'].dt.days/df_noshow['ApptToSchedTime'].count()\n",
    "df_show_normalized = df_show['ApptToSchedTime'].dt.days/df_show['ApptToSchedTime'].count()\n",
    "\n",
    "# Then we plot it in a histogram format\n",
    "pp = df_noshow_normalized.hist(alpha=0.5, label='No Show', figsize=(10,4));\n",
    "df_show_normalized.hist(alpha=0.5, label='Show');\n",
    "mplt.legend();\n",
    "pp.set_xlabel('Normalized Days')\n",
    "pp.set_ylabel('Number of Observations')\n",
    "pp.set_title('Distribution of Normalized Durations \\n between \\n Scheduling Day and Appointment Day \\n for \\n Show and No-Show Sub-Datasets')\n",
    "# Also, we plot the sum of the normalized values, which should be equal to the means if our calculation is right...\n",
    "print('sum of no-show durations = ', sum(df_noshow_normalized), ' days')\n",
    "print('sum of show durations    = ', sum(df_show_normalized), ' days')"
   ]
  },
  {
   "cell_type": "markdown",
   "metadata": {},
   "source": [
    "> We can see that the 'no-show' distribution is wider and has a longer skew to the right than the 'show' distribution, showing that the duration between scheduling time and appointment time is tends to be longer for the no-show cases. We can also plot the overall normalized population distribution, and see how it differs from the 'show' and 'no-show' cases."
   ]
  },
  {
   "cell_type": "code",
   "execution_count": 591,
   "metadata": {
    "scrolled": true
   },
   "outputs": [
    {
     "name": "stdout",
     "output_type": "stream",
     "text": [
      "sum of all durations =  10.184345056597953  days\n",
      "sum of show durations    =  8.754758692619985  days\n"
     ]
    },
    {
     "data": {
      "image/png": "[encoded data removed]",
      "text/plain": [
       "<Figure size 720x288 with 1 Axes>"
      ]
     },
     "metadata": {
      "needs_background": "light"
     },
     "output_type": "display_data"
    }
   ],
   "source": [
    "# Here we do the same process as above, but involving the show subset against the undivided (i.e, All) dataframe (for comparison)\n",
    "df_show_normalized = df_show['ApptToSchedTime'].dt.days/df_show['ApptToSchedTime'].count()\n",
    "df_normalized      = df['ApptToSchedTime'].dt.days / df['ApptToSchedTime'].count()\n",
    "pp = df_normalized.hist(alpha=0.5, label='All', figsize=(10,4));\n",
    "df_show_normalized.hist(alpha=0.5, label='Show');\n",
    "mplt.legend();\n",
    "pp.set_xlabel('Normalized Days')\n",
    "pp.set_ylabel('Number of Observations')\n",
    "pp.set_title('Distribution of Durations \\n between \\nScheduling Day and Appointment Day \\n for \\n the Show Sub-Dataset and the Complete Dataset')\n",
    "print('sum of all durations = ', sum(df_normalized), ' days')\n",
    "print('sum of show durations    = ', sum(df_show_normalized), ' days')"
   ]
  },
  {
   "cell_type": "code",
   "execution_count": 592,
   "metadata": {
    "scrolled": true
   },
   "outputs": [
    {
     "name": "stdout",
     "output_type": "stream",
     "text": [
      "sum of all durations =  10.184345056597953  days\n",
      "sum of no-show durations =  15.835484449223976  days\n"
     ]
    },
    {
     "data": {
      "image/png": "[encoded data removed]",
      "text/plain": [
       "<Figure size 720x288 with 1 Axes>"
      ]
     },
     "metadata": {
      "needs_background": "light"
     },
     "output_type": "display_data"
    }
   ],
   "source": [
    "# Here we do the same process as above, but involving the no-show subset against the undivided (i.e, All) dataframe (for comparison)\n",
    "\n",
    "df_noshow_normalized = df_noshow['ApptToSchedTime'].dt.days/df_noshow['ApptToSchedTime'].count()\n",
    "df_normalized      = df['ApptToSchedTime'].dt.days/df['ApptToSchedTime'].count()\n",
    "pp = df_normalized.hist(alpha=0.5, label='All', figsize=(10,4));\n",
    "df_noshow_normalized.hist(alpha=0.5, label='No Show');\n",
    "mplt.legend();\n",
    "pp.set_xlabel('Normalized Days')\n",
    "pp.set_ylabel('Number of Observations')\n",
    "pp.set_title('Distribution of Durations \\n between \\nScheduling Day and Appointment Day \\n for \\n the No-Show Sub-Dataset and the Complete Dataset')\n",
    "print('sum of all durations = ', sum(df_normalized), ' days')\n",
    "print('sum of no-show durations = ', sum(df_noshow_normalized), ' days')"
   ]
  },
  {
   "cell_type": "markdown",
   "metadata": {},
   "source": [
    "> We see that the overall population differs a little from the 'show'distribution, which means that the sample-size skew has no major impact on our results.\n",
    "\n",
    ">However, another good way to assure that the sample-size skew has no major impact on our results is to repeat the above exercise, but now with a random sample of the 'show' distribution that is equal to the size of the 'no-show' sample se have."
   ]
  },
  {
   "cell_type": "code",
   "execution_count": 595,
   "metadata": {},
   "outputs": [
    {
     "name": "stdout",
     "output_type": "stream",
     "text": [
      "mean of show random sample durations =  8 days 20:37:56.741059  days\n",
      "mean of no-show durations =  15 days 20:03:05.856413  days\n"
     ]
    },
    {
     "data": {
      "image/png": "[encoded data removed]",
      "text/plain": [
       "<Figure size 720x288 with 1 Axes>"
      ]
     },
     "metadata": {
      "needs_background": "light"
     },
     "output_type": "display_data"
    }
   ],
   "source": [
    "# Here we draw a random sample from the show subset, which equals to the size of the no-show subset\n",
    "# For that, we use the sample() function, which takes the size of the sample, and the option to seed the random algorithm...\n",
    "df_show_sample = df_show['ApptToSchedTime'].sample(n=df_noshow['ApptToSchedTime'].count(), random_state=1)\n",
    "\n",
    "# Then we plot the show against no-show as before...\n",
    "pp = df_noshow['ApptToSchedTime'].dt.days.hist(alpha=0.5, label='No Show', figsize=(10,4));\n",
    "df_show_sample.dt.days.hist(alpha=0.5, label='Show', figsize=(10,4));\n",
    "mplt.legend();\n",
    "pp.set_xlabel('Days')\n",
    "pp.set_ylabel('Number of Observations')\n",
    "pp.set_title('Distribution of Durations between Scheduling Day and Appointment Day \\n for \\n a Show Random Sample Set and the No-Show Sub-Dataset')\n",
    "print('mean of show random sample durations = ', df_show_sample.mean(), ' days')\n",
    "print('mean of no-show durations = ', df_noshow['ApptToSchedTime'].mean(), ' days')"
   ]
  },
  {
   "cell_type": "markdown",
   "metadata": {},
   "source": [
    "> We have plotted the histograms of durations here in absolute days, as no size-skew is present. The trend is the same as before, though the histogram is now more compact for the 'show', as the sample size is smaller, but the overall skew behavior is the same. Namely, the 'no-show' observations are more skewed to the right than the 'show' sample observations. In addition, the mean of the 'show' sample also re-assures our earlier results, that the larger the period between the scheduling day and the appointment day, the more suciptible the appointment to be missed. This is more apparent from the mean but "
   ]
  },
  {
   "cell_type": "markdown",
   "metadata": {},
   "source": [
    "### Research Question 2: Does the Reciption of the Appointment SMS Message Reduces the Tendency to Miss an Appointment?\n",
    "\n",
    "> Intuitively, one would think that there should be a negative correlation between recieving an appointment SMS message and the tendencey to miss the appointment. We are going to explore if this intuition holds in our dataset. \n",
    "\n",
    ">Again, we are going to use the sub-divided dataframes for show and no-show. We can tell if this is the case by simple checking the mean of SMS reciption in each case."
   ]
  },
  {
   "cell_type": "code",
   "execution_count": 441,
   "metadata": {
    "scrolled": true
   },
   "outputs": [
    {
     "name": "stdout",
     "output_type": "stream",
     "text": [
      "SMS-Reciption Mean for Show    Cases =  0.29133742220005215\n",
      "SMS-Reciption Mean for No-Show Cases =  0.43846912252397596\n"
     ]
    }
   ],
   "source": [
    "# Here we compute and display the mean of each subset...\n",
    "print('SMS-Reciption Mean for Show    Cases = ', df_show['SMS_received'].mean())\n",
    "print('SMS-Reciption Mean for No-Show Cases = ', df_noshow['SMS_received'].mean())"
   ]
  },
  {
   "cell_type": "markdown",
   "metadata": {},
   "source": [
    "> Surprising enough, the mean of SMS reciption in the no-show cases is higher that that of the show cases, which contradicts any negative correlation between recieving an appointment SMS message and the tendencey to miss the appointment. \n",
    "\n",
    "> To visualize this results, we can plot the SMS reciption and no-reciption proportions for each case."
   ]
  },
  {
   "cell_type": "code",
   "execution_count": 487,
   "metadata": {},
   "outputs": [
    {
     "name": "stdout",
     "output_type": "stream",
     "text": [
      "SMS-Reciption Mean for Show Random Sample Cases =  0.29062471990678496\n"
     ]
    },
    {
     "data": {
      "image/png": "[encoded data removed]",
      "text/plain": [
       "<Figure size 1080x216 with 3 Axes>"
      ]
     },
     "metadata": {},
     "output_type": "display_data"
    }
   ],
   "source": [
    "# Here we plot the proportion (in pie format) of the show (total), show (random sample), and no-show groups.\n",
    "# We use the subplot functionality in matplotlib\n",
    "\n",
    "# Here we draw a sample\n",
    "df_show_sample = df_show['SMS_received'].sample(n=df_noshow['SMS_received'].count(), random_state=1)\n",
    "\n",
    "# Define our labels\n",
    "labels = 'Yes', 'No'\n",
    "\n",
    "# Then create a 1x3 plot\n",
    "fig, axs = mplt.subplots(1, 3, figsize=(15, 3), sharey=True, sharex=True)\n",
    "\n",
    "# Then plot each group\n",
    "axs[0].pie(df_show['SMS_received'].value_counts(), labels=labels)\n",
    "axs[0].set_title('Show (Total)')\n",
    "axs[0].set_ylabel('SMS Recieved')\n",
    "axs[1].pie(df_show_sample.value_counts(), labels=labels)\n",
    "axs[1].set_title('Show (Random Sample)')\n",
    "axs[1].set_ylabel('SMS Recieved')\n",
    "axs[2].pie(df_noshow['SMS_received'].value_counts(), labels=labels)\n",
    "axs[2].set_title('No Show')\n",
    "axs[2].set_ylabel('SMS Recieved')\n",
    "\n",
    "# We also print the mean of the random 'Show' sample, for comparison against the total 'Show' population mean...\n",
    "print('SMS-Reciption Mean for Show Random Sample Cases = ', df_show_sample.mean())"
   ]
  },
  {
   "cell_type": "markdown",
   "metadata": {},
   "source": [
    "> The pie charts re-assures what we anticipated from the means, that there is no negative correlation between recieving an SMS and the tendency to miss an appointment. This is shown for both a the full 'show' sub-dataset, and for a smaller random sample of a size equal to the size of the 'no-show' samlple size."
   ]
  },
  {
   "cell_type": "markdown",
   "metadata": {},
   "source": [
    "### Research Question 3: Does the Enrollment in Bolsa Familia Affects the Tendency to Miss an Appointment?\n",
    "\n",
    "> Here we want to explore any possible correlation between the enrollment in Bolsa Familia and the tendency to miss an appointment. We start first by a look at the means."
   ]
  },
  {
   "cell_type": "code",
   "execution_count": 451,
   "metadata": {
    "scrolled": true
   },
   "outputs": [
    {
     "name": "stdout",
     "output_type": "stream",
     "text": [
      "Bolsa Familia Enrollment Mean for Show    Cases =  0.09390411191855522\n",
      "Bolsa Familia Enrollment Mean for No-Show Cases =  0.11553284933225777\n"
     ]
    }
   ],
   "source": [
    "# Here we compute and display the mean of each subset...\n",
    "print('Bolsa Familia Enrollment Mean for Show    Cases = ', df_show['Scholarship'].mean())\n",
    "print('Bolsa Familia Enrollment Mean for No-Show Cases = ', df_noshow['Scholarship'].mean())"
   ]
  },
  {
   "cell_type": "markdown",
   "metadata": {},
   "source": [
    "> From the means, there seems to be no clear correlation between the enrollment in Bolsa Familia and the tendency to miss an appointment. We can visualize this as we did in the SMS-reciption case, and double check that this holds for a random sample from the 'show' population."
   ]
  },
  {
   "cell_type": "code",
   "execution_count": 489,
   "metadata": {
    "scrolled": true
   },
   "outputs": [
    {
     "name": "stdout",
     "output_type": "stream",
     "text": [
      "Scholarship Mean for Show Random Sample Cases =  0.09693465985479968\n"
     ]
    },
    {
     "data": {
      "image/png": "[encoded data removed]",
      "text/plain": [
       "<Figure size 1296x216 with 3 Axes>"
      ]
     },
     "metadata": {},
     "output_type": "display_data"
    }
   ],
   "source": [
    "# Here we plot the proportion (in pie format) of the show (total), show (random sample), and no-show groups.\n",
    "# We use the subplot functionality in matplotlib\n",
    "\n",
    "# Here we draw a sample\n",
    "df_show_sample = df_show['Scholarship'].sample(n=df_noshow['Scholarship'].count(), random_state=1)\n",
    "\n",
    "# Define our labels\n",
    "labels = 'Yes', 'No'\n",
    "\n",
    "# Then plot...\n",
    "fig, axs = mplt.subplots(1, 3, figsize=(18, 3), sharey=True, sharex=True)\n",
    "axs[0].pie(df_show['Scholarship'].value_counts(), labels=labels)\n",
    "axs[0].set_title('Show (Total)')\n",
    "axs[0].set_ylabel('Scholarship')\n",
    "axs[1].pie(df_show_sample.value_counts(), labels=labels)\n",
    "axs[1].set_title('Show (Random Sample)')\n",
    "axs[1].set_ylabel('Scholarship')\n",
    "axs[2].pie(df_noshow['Scholarship'].value_counts(), labels=labels)\n",
    "axs[2].set_title('No Show')\n",
    "axs[2].set_ylabel('Scholarship')\n",
    "\n",
    "# Finally compute the mean of the random sample, for comparison\n",
    "print('Scholarship Mean for Show Random Sample Cases = ', df_show_sample.mean())"
   ]
  },
  {
   "cell_type": "markdown",
   "metadata": {},
   "source": [
    "> Again, the pie charts re-assures that there is no strong correlation between the enrollment in Bolsa Familia and the tendency to miss an appointment"
   ]
  },
  {
   "cell_type": "markdown",
   "metadata": {},
   "source": [
    "### Research Question 4: Are Patients with Hypertension, Alchoholism, or Diabetes Have Higher Tendency to Miss an Appointment?\n",
    "\n",
    "> Here we want to explore whether a patient with hypertension, alchoholism, or diabetes is more suciptible to miss an appointment?  We again start first by a look at the means."
   ]
  },
  {
   "cell_type": "code",
   "execution_count": 490,
   "metadata": {
    "scrolled": true
   },
   "outputs": [
    {
     "name": "stdout",
     "output_type": "stream",
     "text": [
      "The mean of patients with hypertension for the Show    Cases =  0.20439420907637715\n",
      "The mean of patients with hypertension for the No-Show Cases =  0.16904185713005287\n"
     ]
    }
   ],
   "source": [
    "# Display the means of each group\n",
    "print('The mean of patients with hypertension for the Show    Cases = ', df_show['Hipertension'].mean())\n",
    "print('The mean of patients with hypertension for the No-Show Cases = ', df_noshow['Hipertension'].mean())"
   ]
  },
  {
   "cell_type": "code",
   "execution_count": 491,
   "metadata": {
    "scrolled": true
   },
   "outputs": [
    {
     "name": "stdout",
     "output_type": "stream",
     "text": [
      "The mean of patients with diabetes for the Show    Cases =  0.07383767728184838\n",
      "The mean of patients with diabetes for the No-Show Cases =  0.06408532759702429\n"
     ]
    }
   ],
   "source": [
    "# Display the means of each group\n",
    "print('The mean of patients with diabetes for the Show    Cases = ', df_show['Diabetes'].mean())\n",
    "print('The mean of patients with diabetes for the No-Show Cases = ', df_noshow['Diabetes'].mean())"
   ]
  },
  {
   "cell_type": "code",
   "execution_count": 492,
   "metadata": {
    "scrolled": true
   },
   "outputs": [
    {
     "name": "stdout",
     "output_type": "stream",
     "text": [
      "The mean of patients with alchoholism for the Show    Cases =  0.03041708707925675\n",
      "The mean of patients with alchoholism for the No-Show Cases =  0.030339697051178633\n"
     ]
    }
   ],
   "source": [
    "# Display the means of each group\n",
    "print('The mean of patients with alchoholism for the Show    Cases = ', df_show['Alcoholism'].mean())\n",
    "print('The mean of patients with alchoholism for the No-Show Cases = ', df_noshow['Alcoholism'].mean())"
   ]
  },
  {
   "cell_type": "markdown",
   "metadata": {},
   "source": [
    "> The means above does not suggest any significant correlation between hypertension, alchoholism or diabetes and having a tendency to miss an appointment, though with hypertension, the mean for 'show' cases is slightly higher. We can double check this by repeating the calculation for a random sample of the no-show sample size. We do this below, and we visualize all the above general conclusions about the correlation between thses health issues and the tendency to miss an appointment."
   ]
  },
  {
   "cell_type": "code",
   "execution_count": 493,
   "metadata": {
    "scrolled": true
   },
   "outputs": [
    {
     "name": "stdout",
     "output_type": "stream",
     "text": [
      "Hipertension Mean for Show Random Sample Cases =  0.20691045980102177\n"
     ]
    },
    {
     "data": {
      "image/png": "[encoded data removed]",
      "text/plain": [
       "<Figure size 1296x216 with 3 Axes>"
      ]
     },
     "metadata": {},
     "output_type": "display_data"
    }
   ],
   "source": [
    "# Perform similar steps to the SMS-Reciption and Bolsa Familia plotting exercise \n",
    "# (draw random sample, then plot, then display the mean of the random sample)\n",
    "df_show_sample = df_show['Hipertension'].sample(n=df_noshow['Hipertension'].count(), random_state=1)\n",
    "labels = 'Yes', 'No'\n",
    "fig, axs = mplt.subplots(1, 3, figsize=(18, 3), sharey=True, sharex=True)\n",
    "axs[0].pie(df_show['Hipertension'].value_counts(), labels=labels)\n",
    "axs[0].set_title('Show (Total)')\n",
    "axs[0].set_ylabel('Hipertension')\n",
    "axs[1].pie(df_show_sample.value_counts(), labels=labels)\n",
    "axs[1].set_title('Show (Random Sample)')\n",
    "axs[1].set_ylabel('Hipertension')\n",
    "axs[2].pie(df_noshow['Hipertension'].value_counts(), labels=labels)\n",
    "axs[2].set_title('No Show')\n",
    "axs[2].set_ylabel('Hipertension')\n",
    "print('Hipertension Mean for Show Random Sample Cases = ', df_show_sample.mean())"
   ]
  },
  {
   "cell_type": "code",
   "execution_count": 494,
   "metadata": {},
   "outputs": [
    {
     "name": "stdout",
     "output_type": "stream",
     "text": [
      "Hipertension Mean for Show Random Sample Cases =  0.07268979116249888\n"
     ]
    },
    {
     "data": {
      "image/png": "[encoded data removed]",
      "text/plain": [
       "<Figure size 1296x216 with 3 Axes>"
      ]
     },
     "metadata": {},
     "output_type": "display_data"
    }
   ],
   "source": [
    "# Perform similar steps to the SMS-Reciption and Bolsa Familia plotting exercise \n",
    "# (draw random sample, then plot, then display the mean of the random sample)\n",
    "\n",
    "df_show_sample = df_show['Diabetes'].sample(n=df_noshow['Diabetes'].count(), random_state=1)\n",
    "labels = 'Yes', 'No'\n",
    "fig, axs = mplt.subplots(1, 3, figsize=(18, 3), sharey=True, sharex=True)\n",
    "axs[0].pie(df_show['Diabetes'].value_counts(), labels=labels)\n",
    "axs[0].set_title('Show (Total)')\n",
    "axs[0].set_ylabel('Diabetes')\n",
    "axs[1].pie(df_show_sample.value_counts(), labels=labels)\n",
    "axs[1].set_title('Show (Random Sample)')\n",
    "axs[1].set_ylabel('Diabetes')\n",
    "axs[2].pie(df_noshow['Diabetes'].value_counts(), labels=labels)\n",
    "axs[2].set_title('No Show')\n",
    "axs[2].set_ylabel('Diabetes')\n",
    "print('Diabetes Mean for Show Random Sample Cases = ', df_show_sample.mean())"
   ]
  },
  {
   "cell_type": "code",
   "execution_count": 495,
   "metadata": {
    "scrolled": true
   },
   "outputs": [
    {
     "name": "stdout",
     "output_type": "stream",
     "text": [
      "Hipertension Mean for Show Random Sample Cases =  0.03159451465447701\n"
     ]
    },
    {
     "data": {
      "image/png": "[encoded data removed]",
      "text/plain": [
       "<Figure size 1296x216 with 3 Axes>"
      ]
     },
     "metadata": {},
     "output_type": "display_data"
    }
   ],
   "source": [
    "# Perform similar steps to the SMS-Reciption and Bolsa Familia plotting exercise \n",
    "# (draw random sample, then plot, then display the mean of the random sample)\n",
    "df_show_sample = df_show['Alcoholism'].sample(n=df_noshow['Alcoholism'].count(), random_state=1)\n",
    "labels = 'Yes', 'No'\n",
    "fig, axs = mplt.subplots(1, 3, figsize=(18, 3), sharey=True, sharex=True)\n",
    "axs[0].pie(df_show['Alcoholism'].value_counts(), labels=labels)\n",
    "axs[0].set_title('Show (Total)')\n",
    "axs[0].set_ylabel('Alcoholism')\n",
    "axs[1].pie(df_show_sample.value_counts(), labels=labels)\n",
    "axs[1].set_title('Show (Random Sample)')\n",
    "axs[1].set_ylabel('Alcoholism')\n",
    "axs[2].pie(df_noshow['Alcoholism'].value_counts(), labels=labels)\n",
    "axs[2].set_title('No Show')\n",
    "axs[2].set_ylabel('Alcoholism')\n",
    "print('Alcoholism Mean for Show Random Sample Cases = ', df_show_sample.mean())"
   ]
  },
  {
   "cell_type": "markdown",
   "metadata": {},
   "source": [
    "### Research Question 5: Does the Patient Age Affects the Tendency to Miss an Appointment?\n",
    "\n",
    "> Here we want to explore any possible correlation between the patient's age and his tendency to miss an appointment. We start first by a look at the means."
   ]
  },
  {
   "cell_type": "code",
   "execution_count": 496,
   "metadata": {
    "scrolled": true
   },
   "outputs": [
    {
     "name": "stdout",
     "output_type": "stream",
     "text": [
      "The mean of patients age for the Show    Cases =  37.790504154999034\n",
      "The mean of patients age for the No-Show Cases =  34.31787218786412\n"
     ]
    }
   ],
   "source": [
    "# This prints the mean age for each group...\n",
    "print('The mean of patients age for the Show    Cases = ', df_show['Age'].mean())\n",
    "print('The mean of patients age for the No-Show Cases = ', df_noshow['Age'].mean())"
   ]
  },
  {
   "cell_type": "markdown",
   "metadata": {},
   "source": [
    "> The means does not show a major difference between the two cases, though the show cases tends to have a higher age, as one would expect elderly people to care more about their health. We can have a look at the histograms of both cases to see if there is any interesting pattern."
   ]
  },
  {
   "cell_type": "code",
   "execution_count": 596,
   "metadata": {},
   "outputs": [
    {
     "name": "stdout",
     "output_type": "stream",
     "text": [
      "sum of show normalized patient ages    =  37.790504155005614  years\n",
      "sum of no show normalized patient ages =  34.3178721878611  years\n"
     ]
    },
    {
     "data": {
      "image/png": "[encoded data removed]",
      "text/plain": [
       "<Figure size 720x288 with 1 Axes>"
      ]
     },
     "metadata": {
      "needs_background": "light"
     },
     "output_type": "display_data"
    }
   ],
   "source": [
    "# We normalize the age by the count\n",
    "df_show_normalized  = df_show['Age']/df_show['Age'].count()\n",
    "df_noshow_normalized = df_noshow['Age']/df_noshow['Age'].count()\n",
    "\n",
    "# The plot the distribution as histograms\n",
    "pp = df_show_normalized.hist(alpha=0.5, label='Show', figsize=(10,4));\n",
    "df_noshow_normalized.hist(alpha=0.5, label='No Show');\n",
    "mplt.legend();\n",
    "pp.set_xlabel('Normalized Patient Age')\n",
    "pp.set_ylabel('Number of Observations')\n",
    "pp.set_title('Distribution of Normalized Ages for the Show and No-Show Sub-Datasets')\n",
    "print('sum of show normalized patient ages    = ', sum(df_show_normalized), ' years')\n",
    "print('sum of no show normalized patient ages = ', sum(df_noshow_normalized), ' years')"
   ]
  },
  {
   "cell_type": "markdown",
   "metadata": {},
   "source": [
    "> We see from the histograms that the patients with older ages are infact more suciptible to miss an appointment. However, this could be an effect of the normalization we did and the skew in the sample sizes. To reassure our analysis, we repeat the above exercise, but with a random sample of the 'show' cases, that has a similar size to the 'no-show' sample."
   ]
  },
  {
   "cell_type": "code",
   "execution_count": 598,
   "metadata": {},
   "outputs": [
    {
     "name": "stdout",
     "output_type": "stream",
     "text": [
      "Mean of show random sample patient ages    =  37.84399928296137  years\n"
     ]
    },
    {
     "data": {
      "image/png": "[encoded data removed]",
      "text/plain": [
       "<Figure size 576x360 with 1 Axes>"
      ]
     },
     "metadata": {
      "needs_background": "light"
     },
     "output_type": "display_data"
    }
   ],
   "source": [
    "# We first draw a sample from the 'Show' subset, with size equal to the 'No-Show' subset\n",
    "df_show_sample = df_show['Age'].sample(n=df_noshow['Age'].count(), random_state=1)\n",
    "\n",
    "# Then we plot the distributions\n",
    "pp = df_show_sample.hist(alpha=0.5, label='Show', figsize=(8,5));\n",
    "df_noshow['Age'].hist(alpha=0.5, label='No Show');\n",
    "mplt.legend();\n",
    "pp.set_xlabel('Patient Age')\n",
    "pp.set_ylabel('Number of Observations')\n",
    "pp.set_title('Distribution of Ages \\n for \\n the a Show Random Sample Dataset and the total No-Show Sub-Dataset')\n",
    "print('Mean of show random sample patient ages    = ', df_show_sample.mean(), ' years')"
   ]
  },
  {
   "cell_type": "markdown",
   "metadata": {},
   "source": [
    "> The comparison of two 'show' and 'no-show' samples with the same size did actually revealed that our earlier results using age normalization was not actually correct, and it was skewed due to the sample size! \n",
    "> Here, we see clearly that the age effect is not very critical, though patient with younger ages seem to have more 'no-show' tendency as the 'no-show' histogram is more skewed to the left than the 'show' histogram in the above figure."
   ]
  },
  {
   "cell_type": "markdown",
   "metadata": {},
   "source": [
    "<a id='conclusions'></a>\n",
    "## Conclusions\n",
    "\n",
    "> In this project, we used a public health dataset from Brazil to investigated the possible correlation between the below factors and the tendency of missing an appointment (i.e., having a no-show):\n",
    ">> 1. The duration between the scheduling day and the appointment day\n",
    ">> 2. The reciption of the appointment SMS message\n",
    ">> 3. The enrollment in Bolsa Familia welfare program\n",
    ">> 4. The health conditions (hypertension, alchoholism, diabetes)\n",
    ">> 5. The age\n",
    "\n",
    "> There are several limitaitons in this analysis. Some limitations are:\n",
    ">>1. The given dataset has a strong skew towards the 'show' cases, which represents more than 70% of the total dataset size. Thus we tried to mitigate this skew when possible by normalization or selecting a random sample from the 'show' population with a similar size of the 'no-show' population. However, there could be better approaches to handle this.\n",
    ">>2. The given dataset has some records with issues in their entries. For example, several entries has negative age, which we had to drop and exclude from our analysis.\n",
    ">>3. Another limitation is missing hour/minute portion of the Appointment days, for which we had to exclude these data from our duration calculation, though the scheduling day column has it. There could be a other approaches to handle this, such as taking the mid working day (i.e., the mean) to fill in the missing hour/minute values in the Appointment records.\n",
    "\n",
    "> Based on our analysis, the following conclusions have been made:\n",
    ">>1. There seems to be a positive correlation between the length of the duration between the scheduling day and the appointment day and the tendency to miss an appointment.\n",
    ">>2. No clear negative correlation was found between receiving an SMS appointment message and the tendency to miss an appointment.\n",
    ">>3. There was no evidence of clear correlation between the enrollment in Bolsa Familia welfare program and the tendency to miss an appointment.\n",
    ">>4. No clear correlation was found between health conditions (hypertension, alchoholism, diabetes) and the tendency to miss an appointment.\n",
    ">>5. There was no evidence of strong correlation between the age and the tendency to miss an appointment. However, a comparison of two samples of the same size of 'show' and 'no-show' populations suggets a slight tendency to miss an appointment for younger age patients. \n",
    "\n",
    ">Further investigations could be made to find more correlations that increase or decrease the tendency to miss an appointment. This could include factors not covered in this study, or combination of factors (e.g., alcoholism with hypertension, or age with SMS-reciption ...etc)."
   ]
  }
 ],
 "metadata": {
  "kernelspec": {
   "display_name": "Python 3",
   "language": "python",
   "name": "python3"
  },
  "language_info": {
   "codemirror_mode": {
    "name": "ipython",
    "version": 3
   },
   "file_extension": ".py",
   "mimetype": "text/x-python",
   "name": "python",
   "nbconvert_exporter": "python",
   "pygments_lexer": "ipython3",
   "version": "3.6.8"
  }
 },
 "nbformat": 4,
 "nbformat_minor": 2
}
